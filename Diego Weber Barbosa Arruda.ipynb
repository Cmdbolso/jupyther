{
 "cells": [
  {
   "cell_type": "heading",
   "metadata": {
    "collapsed": true
   },
   "level": 1,
   "source": []
  },
  {
   "cell_type": "heading",
   "metadata": {},
   "level": 1,
   "source": [
    "Questão 1"
   ]
  },
  {
   "cell_type": "code",
   "execution_count": null,
   "metadata": {},
   "outputs": [],
   "source": [
    "#1.1\n",
    "x > y or x = y\n",
    "#1.2\n",
    "x < y or x = y\n",
    "#1.3\n",
    "#Não sei se você aceitaria colocar \"x!=y\" para essa questão, então usei \"not\"!\n",
    "not x = y\n",
    "\n",
    "#1.4\n",
    "((0 < x or 0 = x) and (x < ∞ or x = ∞)\n",
    "#1.5\n",
    "#Não entendi se era para deixar com o operador \"->\" ou se era para coloca-lo no formato \"não A ou B\"\n",
    "(x > 0) -> (y > 0 or y = 0)\n",
    "not (x > 0) or (y > 0 or y = 0)\n",
    "#1.6\n",
    "#Mesmo problema da 1.5\n",
    "(x < 0 or x = 0) <-> (y > 0 or y = 0)\n",
    "(not(x < 0 or x = 0) or (y > 0 or y = 0)) and (not(y > 0 or y = 0) or (x < 0 or x = 0))\n"
   ]
  }
 ],
 "metadata": {
  "kernelspec": {
   "display_name": "Python 2",
   "language": "python",
   "name": "python2"
  },
  "language_info": {
   "codemirror_mode": {
    "name": "ipython",
    "version": 2
   },
   "file_extension": ".py",
   "mimetype": "text/x-python",
   "name": "python",
   "nbconvert_exporter": "python",
   "pygments_lexer": "ipython2",
   "version": "2.7.6"
  }
 },
 "nbformat": 4,
 "nbformat_minor": 0
}
